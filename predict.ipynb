{
 "cells": [
  {
   "cell_type": "code",
   "execution_count": 2,
   "metadata": {},
   "outputs": [],
   "source": [
    "local = True"
   ]
  },
  {
   "cell_type": "code",
   "execution_count": 3,
   "metadata": {},
   "outputs": [
    {
     "name": "stderr",
     "output_type": "stream",
     "text": [
      "Using TensorFlow backend.\n",
      "/Users/tianhaozhou/Documents/mlenv/lib/python3.6/importlib/_bootstrap.py:219: RuntimeWarning: compiletime version 3.5 of module 'tensorflow.python.framework.fast_tensor_util' does not match runtime version 3.6\n",
      "  return f(*args, **kwds)\n"
     ]
    }
   ],
   "source": [
    "from keras.models import load_model\n",
    "import pandas as pd\n",
    "import numpy as np"
   ]
  },
  {
   "cell_type": "code",
   "execution_count": 4,
   "metadata": {},
   "outputs": [],
   "source": [
    "def encode_brand(data, brand_dict):\n",
    "    res = []\n",
    "    for d in data:\n",
    "        row = np.zeros((len(brand_dict)))\n",
    "        if d in brand_dict:\n",
    "            row[brand_dict[d]] = 1\n",
    "        res.append(row)\n",
    "    output = np.array(res)\n",
    "    return output"
   ]
  },
  {
   "cell_type": "code",
   "execution_count": 5,
   "metadata": {},
   "outputs": [],
   "source": [
    "def encode_shipping(data):\n",
    "    res = [[i] for i in data]\n",
    "    output = np.array(res)\n",
    "    return output"
   ]
  },
  {
   "cell_type": "code",
   "execution_count": 6,
   "metadata": {},
   "outputs": [],
   "source": [
    "def encode_condition(data, condition_dict):\n",
    "    res = []\n",
    "    for d in data:\n",
    "        row = np.zeros((len(condition_dict)))\n",
    "        row[condition_dict[d]] = 1\n",
    "        res.append(row)\n",
    "    output = np.array(res)\n",
    "    return output"
   ]
  },
  {
   "cell_type": "code",
   "execution_count": 7,
   "metadata": {},
   "outputs": [],
   "source": [
    "def encode_category(data, dicts, level):\n",
    "    res = []\n",
    "    for d in data:\n",
    "        row = []\n",
    "        for lv in range(level):\n",
    "            exrow = [0 for i in range(len(dicts[lv]))]\n",
    "            if type(d) == str:\n",
    "                clist = d.split('/')\n",
    "                if lv < len(clist) and clist[lv] in dicts[lv]:\n",
    "                    exrow[dicts[lv][clist[lv]]] = 1\n",
    "            row.extend(exrow)\n",
    "        res.append(row)\n",
    "    output = np.array(res)\n",
    "    return output"
   ]
  },
  {
   "cell_type": "code",
   "execution_count": 8,
   "metadata": {},
   "outputs": [],
   "source": [
    "test_raw_path = 'data/test.tsv' if local else '/data/test.tsv'\n",
    "test_raw = pd.read_csv(test_raw_path, sep='\\t')"
   ]
  },
  {
   "cell_type": "code",
   "execution_count": 9,
   "metadata": {},
   "outputs": [],
   "source": [
    "train_raw_path = 'data/train.tsv' if local else '/data/train.tsv'\n",
    "train_raw = pd.read_csv(train_raw_path, sep='\\t')"
   ]
  },
  {
   "cell_type": "code",
   "execution_count": 10,
   "metadata": {},
   "outputs": [
    {
     "name": "stdout",
     "output_type": "stream",
     "text": [
      "training brand size:  4810\n",
      "testing brand size:  3901\n",
      "common brand size:  3421\n",
      "brand dict size:  5290\n"
     ]
    }
   ],
   "source": [
    "train_brand_list = list(set(train_raw['brand_name']))\n",
    "test_brand_list = list(set(test_raw['brand_name']))\n",
    "print('training brand size: ', len(train_brand_list))\n",
    "print('testing brand size: ', len(test_brand_list))\n",
    "print('common brand size: ', len(list(set(train_brand_list)&set(test_brand_list))))\n",
    "total_brand_list = list(set(train_brand_list)|set(test_brand_list))\n",
    "brand_dict = {}\n",
    "for b in total_brand_list:\n",
    "    brand_dict[b] = len(brand_dict)\n",
    "print('brand dict size: ', len(brand_dict))"
   ]
  },
  {
   "cell_type": "code",
   "execution_count": 11,
   "metadata": {},
   "outputs": [
    {
     "name": "stdout",
     "output_type": "stream",
     "text": [
      "total category count:  2175894\n",
      "level of dicts:  5\n"
     ]
    }
   ],
   "source": [
    "total_category = []\n",
    "total_category.extend(train_raw['category_name'].tolist())\n",
    "total_category.extend(test_raw['category_name'].tolist())\n",
    "print('total category count: ', len(total_category))\n",
    "dicts = []\n",
    "for c in total_category:\n",
    "    if type(c) == str:\n",
    "        clist = c.split('/')\n",
    "        level_of_category = len(clist)\n",
    "        while level_of_category > len(dicts):\n",
    "            dicts.append({})\n",
    "        for i in range(level_of_category):\n",
    "            current = clist[i]\n",
    "            if current not in dicts[i]:\n",
    "                dicts[i][current] = len(dicts[i])\n",
    "print('level of dicts: ', len(dicts))"
   ]
  },
  {
   "cell_type": "code",
   "execution_count": 12,
   "metadata": {},
   "outputs": [
    {
     "name": "stdout",
     "output_type": "stream",
     "text": [
      "total item condition id count:  2175894\n",
      "[1, 2, 3, 4, 5]\n",
      "condition dict:  {1: 0, 2: 1, 3: 2, 4: 3, 5: 4}\n"
     ]
    }
   ],
   "source": [
    "total_item_condition = []\n",
    "total_item_condition.extend(train_raw['item_condition_id'])\n",
    "total_item_condition.extend(test_raw['item_condition_id'])\n",
    "print('total item condition id count: ', len(total_item_condition))\n",
    "print(list(set(total_item_condition)))\n",
    "condition_list = list(set(total_item_condition))\n",
    "condition_dict = {}\n",
    "for i in range(len(condition_list)):\n",
    "    condition_dict[condition_list[i]] = i\n",
    "print('condition dict: ', condition_dict)"
   ]
  },
  {
   "cell_type": "code",
   "execution_count": 32,
   "metadata": {},
   "outputs": [],
   "source": [
    "model = load_model('complete_model.h5')"
   ]
  },
  {
   "cell_type": "code",
   "execution_count": 35,
   "metadata": {},
   "outputs": [
    {
     "name": "stdout",
     "output_type": "stream",
     "text": [
      "0 / 6933\n",
      "100 / 6933\n",
      "200 / 6933\n",
      "300 / 6933\n",
      "400 / 6933\n",
      "500 / 6933\n",
      "600 / 6933\n",
      "700 / 6933\n",
      "800 / 6933\n",
      "900 / 6933\n",
      "1000 / 6933\n",
      "1100 / 6933\n",
      "1200 / 6933\n",
      "1300 / 6933\n",
      "1400 / 6933\n",
      "1500 / 6933\n",
      "1600 / 6933\n",
      "1700 / 6933\n",
      "1800 / 6933\n",
      "1900 / 6933\n",
      "2000 / 6933\n",
      "2100 / 6933\n",
      "2200 / 6933\n",
      "2300 / 6933\n",
      "2400 / 6933\n",
      "2500 / 6933\n",
      "2600 / 6933\n",
      "2700 / 6933\n",
      "2800 / 6933\n",
      "2900 / 6933\n",
      "3000 / 6933\n",
      "3100 / 6933\n",
      "3200 / 6933\n",
      "3300 / 6933\n",
      "3400 / 6933\n",
      "3500 / 6933\n",
      "3600 / 6933\n",
      "3700 / 6933\n",
      "3800 / 6933\n",
      "3900 / 6933\n",
      "4000 / 6933\n",
      "4100 / 6933\n",
      "4200 / 6933\n",
      "4300 / 6933\n",
      "4400 / 6933\n",
      "4500 / 6933\n",
      "4600 / 6933\n",
      "4700 / 6933\n",
      "4800 / 6933\n",
      "4900 / 6933\n",
      "5000 / 6933\n",
      "5100 / 6933\n",
      "5200 / 6933\n",
      "5300 / 6933\n",
      "5400 / 6933\n",
      "5500 / 6933\n",
      "5600 / 6933\n",
      "5700 / 6933\n",
      "5800 / 6933\n",
      "5900 / 6933\n",
      "6000 / 6933\n",
      "6100 / 6933\n",
      "6200 / 6933\n",
      "6300 / 6933\n",
      "6400 / 6933\n",
      "6500 / 6933\n",
      "6600 / 6933\n",
      "6700 / 6933\n",
      "6800 / 6933\n",
      "6900 / 6933\n",
      "693359\n"
     ]
    }
   ],
   "source": [
    "size = len(test_raw)\n",
    "trunk = 100\n",
    "res = []\n",
    "for i in range((size//trunk) + 1):\n",
    "    if i % 100 == 0:\n",
    "        print(i, '/', size//100)\n",
    "    start = i*trunk\n",
    "    end = min((i+1)*trunk, size)\n",
    "    test_condition = encode_condition(test_raw['item_condition_id'][start:end], condition_dict)\n",
    "    test_shipping = encode_shipping(test_raw['shipping'][start:end])\n",
    "    test_condition = np.hstack([test_condition, test_shipping])\n",
    "    test_category = encode_category(test_raw['category_name'][start:end], dicts, 2)\n",
    "    test_brand = encode_brand(test_raw['brand_name'][start:end], brand_dict)\n",
    "    tmp = model.predict(x=[test_brand, test_category, test_condition], verbose=0)\n",
    "    res.extend(sum(tmp.tolist(), []))\n",
    "print(len(res))"
   ]
  },
  {
   "cell_type": "code",
   "execution_count": 40,
   "metadata": {},
   "outputs": [],
   "source": [
    "output_dict = {'test_id': test_raw['test_id'], 'price': res}\n",
    "output_dataframe = pd.DataFrame(output_dict)\n",
    "output_dataframe.to_csv('submission.csv')"
   ]
  },
  {
   "cell_type": "code",
   "execution_count": null,
   "metadata": {},
   "outputs": [],
   "source": []
  }
 ],
 "metadata": {
  "kernelspec": {
   "display_name": "mlenv",
   "language": "python",
   "name": "mlenv"
  },
  "language_info": {
   "codemirror_mode": {
    "name": "ipython",
    "version": 3
   },
   "file_extension": ".py",
   "mimetype": "text/x-python",
   "name": "python",
   "nbconvert_exporter": "python",
   "pygments_lexer": "ipython3",
   "version": "3.6.3"
  }
 },
 "nbformat": 4,
 "nbformat_minor": 2
}
