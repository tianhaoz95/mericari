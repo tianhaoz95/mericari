{
  "cells": [
    {
      "metadata": {
        "_cell_guid": "600c98d2-aeb1-4286-9221-5b5a7143da6d",
        "_uuid": "66fa2aeaf10a4376b2c276c0f06f272758cc55d2",
        "trusted": true
      },
      "cell_type": "code",
      "source": "# This Python 3 environment comes with many helpful analytics libraries installed\n# It is defined by the kaggle/python docker image: https://github.com/kaggle/docker-python\n# For example, here's several helpful packages to load in \n%matplotlib inline\nimport numpy as np # linear algebra\nimport pandas as pd # data processing, CSV file I/O (e.g. pd.read_csv)\nimport collections\nimport matplotlib.pyplot as plt\nimport keras.layers as KL\nimport keras.optimizers as KO\nimport keras.models as KM\nimport keras.backend as K\n\n# Input data files are available in the \"../input/\" directory.\n# For example, running this (by clicking run or pressing Shift+Enter) will list the files in the input directory\n\nfrom subprocess import check_output\nprint(check_output([\"ls\", \"../input\"]).decode(\"utf8\"))\n\n# Any results you write to the current directory are saved as output.",
      "execution_count": 1,
      "outputs": [
        {
          "output_type": "stream",
          "text": "Using TensorFlow backend.\n/opt/conda/lib/python3.6/importlib/_bootstrap.py:219: RuntimeWarning: compiletime version 3.5 of module 'tensorflow.python.framework.fast_tensor_util' does not match runtime version 3.6\n  return f(*args, **kwds)\n",
          "name": "stderr"
        },
        {
          "output_type": "stream",
          "text": "sample_submission.csv\ntest.tsv\ntrain.tsv\n\n",
          "name": "stdout"
        }
      ]
    },
    {
      "metadata": {
        "collapsed": true,
        "_uuid": "c3fb3619466ef04c05177c4365ff9e16840a127e",
        "_cell_guid": "12f61c2e-14f5-47eb-9aa1-c244c098f498",
        "trusted": true
      },
      "cell_type": "code",
      "source": "train_raw = pd.read_csv('../input/train.tsv', sep='\\t')\ntest_raw = pd.read_csv('../input/test.tsv', sep='\\t')",
      "execution_count": 2,
      "outputs": []
    },
    {
      "metadata": {
        "_uuid": "671dfa8e70427585c7bf98eb2e57041f6c899904",
        "_cell_guid": "7a31843b-1c7f-45fa-979d-815ecdd49358",
        "trusted": true
      },
      "cell_type": "code",
      "source": "print(test_raw.keys())",
      "execution_count": 3,
      "outputs": [
        {
          "output_type": "stream",
          "text": "Index(['test_id', 'name', 'item_condition_id', 'category_name', 'brand_name',\n       'shipping', 'item_description'],\n      dtype='object')\n",
          "name": "stdout"
        }
      ]
    },
    {
      "metadata": {
        "_uuid": "9d91c40fef0fdda6b004f44a2b1034a6ec5e44f0",
        "_cell_guid": "05ac116b-807c-4d86-a4a7-fed565e27499",
        "trusted": true
      },
      "cell_type": "code",
      "source": "brand_list = []\nbrand_list.extend(train_raw['brand_name'])\nbrand_list.extend(test_raw['brand_name'])\nbrand_list = [i for i in brand_list if str(i) != 'nan']\nbrand_collection = collections.Counter(brand_list)\nmax_brand_idx = list(brand_collection.values()).index(max(brand_collection.values()))\nmax_brand_name = list(brand_collection.keys())[max_brand_idx]\nbrand_dict = {'unknown': np.zeros(101)}\nfor i in range(len(train_raw)):\n    price_idx = int(train_raw['price'][i] // 20)\n    if str(train_raw['brand_name'][i]) == 'nan':\n        brand_dict['unknown'][price_idx] = brand_dict['unknown'][price_idx] + 1\n    else:\n        brand_name = train_raw['brand_name'][i]\n        if brand_name not in brand_dict:\n            brand_dict[brand_name] = np.zeros(101)\n        brand_dict[brand_name][price_idx] = brand_dict[brand_name][price_idx] + 1\nprint('brand dict size: ', len(brand_dict))\nfor k in brand_dict:\n    brand_dict[k] = brand_dict[k] / sum(brand_dict[k])\nprint(list(brand_dict.values())[0])",
      "execution_count": 4,
      "outputs": [
        {
          "output_type": "stream",
          "text": "brand dict size:  4810\n[  6.55063681e-01   2.39388824e-01   6.04932652e-02   2.05806392e-02\n   8.66153929e-03   5.18744014e-03   3.13901771e-03   2.11954821e-03\n   1.24707199e-03   8.06092160e-04   8.70895647e-04   4.97880452e-04\n   4.45721547e-04   2.10216191e-04   1.67540723e-04   2.54472231e-04\n   9.64149446e-05   1.61218432e-04   7.11257788e-05   4.58366130e-05\n   9.48343718e-05   3.95143216e-05   4.89977587e-05   1.73863015e-05\n   1.10640100e-05   4.58366130e-05   9.48343718e-06   2.37085929e-05\n   1.58057286e-05   4.74171859e-06   2.37085929e-05   9.48343718e-06\n   1.10640100e-05   7.90286431e-06   6.32229145e-06   2.05474472e-05\n   4.74171859e-06   7.90286431e-06   9.48343718e-06   1.58057286e-06\n   1.26445829e-05   3.16114573e-06   3.16114573e-06   0.00000000e+00\n   1.58057286e-06   1.10640100e-05   0.00000000e+00   6.32229145e-06\n   0.00000000e+00   0.00000000e+00   9.48343718e-06   0.00000000e+00\n   3.16114573e-06   1.58057286e-06   0.00000000e+00   3.16114573e-06\n   0.00000000e+00   0.00000000e+00   0.00000000e+00   0.00000000e+00\n   3.16114573e-06   0.00000000e+00   1.58057286e-06   0.00000000e+00\n   0.00000000e+00   0.00000000e+00   0.00000000e+00   0.00000000e+00\n   0.00000000e+00   0.00000000e+00   3.16114573e-06   0.00000000e+00\n   0.00000000e+00   0.00000000e+00   0.00000000e+00   1.58057286e-06\n   3.16114573e-06   0.00000000e+00   0.00000000e+00   0.00000000e+00\n   0.00000000e+00   0.00000000e+00   0.00000000e+00   0.00000000e+00\n   0.00000000e+00   0.00000000e+00   0.00000000e+00   3.16114573e-06\n   0.00000000e+00   0.00000000e+00   3.16114573e-06   0.00000000e+00\n   0.00000000e+00   0.00000000e+00   0.00000000e+00   0.00000000e+00\n   0.00000000e+00   0.00000000e+00   0.00000000e+00   1.58057286e-06\n   1.58057286e-06]\n",
          "name": "stdout"
        }
      ]
    },
    {
      "metadata": {
        "_uuid": "b027e30712e58485f437f0f5df0431129500093b",
        "_cell_guid": "660ab545-f8c9-465c-9802-8e7d2e016cd5",
        "trusted": true
      },
      "cell_type": "code",
      "source": "total_item_condition = []\ntotal_item_condition.extend(train_raw['item_condition_id'])\ntotal_item_condition.extend(test_raw['item_condition_id'])\nprint('total item condition id count: ', len(total_item_condition))\nprint(list(set(total_item_condition)))\ncondition_list = list(set(total_item_condition))\ncondition_dict = {}\nfor i in range(len(condition_list)):\n    condition_dict[condition_list[i]] = np.zeros(5)\n    condition_dict[condition_list[i]][i] = 1\nprint('condition dict: ', condition_dict)",
      "execution_count": 5,
      "outputs": [
        {
          "output_type": "stream",
          "text": "total item condition id count:  2175894\n[1, 2, 3, 4, 5]\ncondition dict:  {1: array([ 1.,  0.,  0.,  0.,  0.]), 2: array([ 0.,  1.,  0.,  0.,  0.]), 3: array([ 0.,  0.,  1.,  0.,  0.]), 4: array([ 0.,  0.,  0.,  1.,  0.]), 5: array([ 0.,  0.,  0.,  0.,  1.])}\n",
          "name": "stdout"
        }
      ]
    },
    {
      "metadata": {
        "_uuid": "feaa65a5ecefab66bedce1b39a0678fda46e1094",
        "_cell_guid": "3925cc9e-d1dc-4401-9933-de68f9d923a4",
        "trusted": true
      },
      "cell_type": "code",
      "source": "price_list = train_raw['price']\nprint('min price: ', min(price_list))\nprint('max price: ', max(price_list))\nprint('intervals: ', 2020//20)\nprice_seg = []\nfor p in train_raw['price']:\n    row = np.zeros(101)\n    row[int(p//20)] = 1\n    price_seg.append(row)\nprice_seg = np.array(price_seg)\nprint('price seg shape: ', price_seg.shape)",
      "execution_count": 6,
      "outputs": [
        {
          "output_type": "stream",
          "text": "min price:  0.0\nmax price:  2009.0\nintervals:  101\nprice seg shape:  (1482535, 101)\n",
          "name": "stdout"
        }
      ]
    },
    {
      "metadata": {
        "_uuid": "1479f2c55b1daa8eee8d4e620f6534962203070b",
        "_cell_guid": "a083a747-5f9a-4414-a5c4-7c29f573e4b7",
        "trusted": true
      },
      "cell_type": "code",
      "source": "min_category_cnt = 10\nmax_category_cnt = 0\nmax_len = 0\ncategory_list = []\ncategory_list.extend(train_raw['category_name'])\ncategory_list.extend(test_raw['category_name'])\ncategory_list = [c for c in category_list if str(c) != 'nan']\nprint(category_list[100].lower())\nlabel_list = []\nchar_list = []\nfor c in category_list:\n    clist = c.split('/')\n    char_list.extend(list(c))\n    label_list.extend(clist)\n    max_len = max(max_len, len(c))\n    min_category_cnt = min(min_category_cnt, len(clist))\n    max_category_cnt = max(max_category_cnt, len(clist))\nprint('min: ', min_category_cnt,  'max: ', max_category_cnt)\nprint('total labels: ', len(label_list))\nprint('max length: ', max_len)",
      "execution_count": 7,
      "outputs": [
        {
          "output_type": "stream",
          "text": "women/tops & blouses/t-shirts\nmin:  3 max:  5\ntotal labels:  6510440\nmax length:  65\n",
          "name": "stdout"
        }
      ]
    },
    {
      "metadata": {
        "_uuid": "3af03d850ad58dcb3695d53bb2352dee36563da7",
        "_cell_guid": "9a21a271-bb6f-4fce-9b64-800935ff2648",
        "trusted": true
      },
      "cell_type": "code",
      "source": "category_dict = {'unknown': np.zeros(101)}\nfor i in range(len(train_raw)):\n    price_idx = int(train_raw['price'][i] // 20)\n    if str(train_raw['category_name'][i]) == 'nan':\n        category_dict['unknown'][price_idx] = category_dict['unknown'][price_idx] + 1\n    else:\n        clist = train_raw['category_name'][i].split('/')\n        cuname = ''\n        for cn in clist:\n            cuname = cuname + cn\n            if cuname not in category_dict:\n                category_dict[cuname] = np.zeros(101)\n            category_dict[cuname][price_idx] = category_dict[cuname][price_idx] + 1\nprint('dict size: ', len(category_dict))",
      "execution_count": 8,
      "outputs": [
        {
          "output_type": "stream",
          "text": "dict size:  1443\n",
          "name": "stdout"
        }
      ]
    },
    {
      "metadata": {
        "_uuid": "234ef6354ef87a2b0715d30973be1859492dc636",
        "_cell_guid": "b53901bb-e9c3-41f7-8671-fe637fd3a3ea",
        "trusted": true
      },
      "cell_type": "code",
      "source": "for k in category_dict:\n    category_dict[k] = category_dict[k]/sum(category_dict[k])\nprint(list(category_dict.values())[0])",
      "execution_count": 9,
      "outputs": [
        {
          "output_type": "stream",
          "text": "[  5.69938359e-01   2.91291291e-01   7.33364944e-02   2.57626047e-02\n   1.28022760e-02   6.95432274e-03   5.21574206e-03   3.95131974e-03\n   2.37079184e-03   1.26442232e-03   2.84495021e-03   9.48316738e-04\n   6.32211159e-04   3.16105579e-04   4.74158369e-04   3.16105579e-04\n   3.16105579e-04   4.74158369e-04   0.00000000e+00   0.00000000e+00\n   1.58052790e-04   0.00000000e+00   1.58052790e-04   0.00000000e+00\n   0.00000000e+00   0.00000000e+00   0.00000000e+00   0.00000000e+00\n   0.00000000e+00   0.00000000e+00   0.00000000e+00   0.00000000e+00\n   1.58052790e-04   0.00000000e+00   1.58052790e-04   0.00000000e+00\n   0.00000000e+00   0.00000000e+00   0.00000000e+00   0.00000000e+00\n   0.00000000e+00   0.00000000e+00   0.00000000e+00   0.00000000e+00\n   0.00000000e+00   0.00000000e+00   0.00000000e+00   0.00000000e+00\n   0.00000000e+00   0.00000000e+00   1.58052790e-04   0.00000000e+00\n   0.00000000e+00   0.00000000e+00   0.00000000e+00   0.00000000e+00\n   0.00000000e+00   0.00000000e+00   0.00000000e+00   0.00000000e+00\n   0.00000000e+00   0.00000000e+00   0.00000000e+00   0.00000000e+00\n   0.00000000e+00   0.00000000e+00   0.00000000e+00   0.00000000e+00\n   0.00000000e+00   0.00000000e+00   0.00000000e+00   0.00000000e+00\n   0.00000000e+00   0.00000000e+00   0.00000000e+00   0.00000000e+00\n   0.00000000e+00   0.00000000e+00   0.00000000e+00   0.00000000e+00\n   0.00000000e+00   0.00000000e+00   0.00000000e+00   0.00000000e+00\n   0.00000000e+00   0.00000000e+00   0.00000000e+00   0.00000000e+00\n   0.00000000e+00   0.00000000e+00   0.00000000e+00   0.00000000e+00\n   0.00000000e+00   0.00000000e+00   0.00000000e+00   0.00000000e+00\n   0.00000000e+00   0.00000000e+00   0.00000000e+00   0.00000000e+00\n   0.00000000e+00]\n",
          "name": "stdout"
        }
      ]
    },
    {
      "metadata": {
        "_uuid": "fcbe1e4d18cc428fb7ffb38f1df227d3408693c1",
        "_cell_guid": "31e62df5-024c-4fec-a041-b37b42b05df9",
        "trusted": true
      },
      "cell_type": "code",
      "source": "unknown_cnt = 0\nfor i in range(len(test_raw)):\n    if str(test_raw['category_name'][i]) == 'nan':\n        unknown_cnt = unknown_cnt + 1\n    else:\n        clist = test_raw['category_name'][i].split('/')\n        cuname = ''\n        found = False\n        for cn in clist:\n            cuname = cuname + cn\n            if cuname in category_dict:\n                found = True\n        if not found:\n            unknown_cnt = unknown_cnt + 1\nprint('unknown rate: ', unknown_cnt/len(test_raw))",
      "execution_count": 10,
      "outputs": [
        {
          "output_type": "stream",
          "text": "unknown rate:  0.0044104136529561164\n",
          "name": "stdout"
        }
      ]
    },
    {
      "metadata": {
        "_uuid": "0d23c23d919f82ac27feb6d02ff19ce777a8f0c3",
        "_cell_guid": "4d52828e-14f4-4715-a52d-88fe5ac67bad",
        "trusted": true
      },
      "cell_type": "code",
      "source": "X = []\ny = np.array([[p] for p in train_raw['price']])\nfor i in range(len(train_raw)):\n    row = None\n    brand_name = 'unknown'\n    if str(train_raw['brand_name'][i]) in brand_dict:\n        brand_name = train_raw['brand_name'][i]\n    row = brand_dict[brand_name]\n    category_features = category_dict['unknown']\n    if str(train_raw['category_name'][i]) != 'nan':\n        clist = train_raw['category_name'][i].split('/')\n        cuname = ''\n        for cn in clist:\n            cuname = cuname + cn\n            if cuname in category_dict:\n                category_features = category_dict[cuname]\n    row = np.hstack([row, category_features])\n    condition_features = condition_dict[train_raw['item_condition_id'][i]]\n    row = np.hstack([row, condition_features])\n    shipping_features = np.array([train_raw['shipping'][i]])\n    row = np.hstack([row, shipping_features])\n    X.append(row)\nX = np.array(X)\nprint('X shape: ', X.shape)\nprint('y shape: ', y.shape)",
      "execution_count": 11,
      "outputs": [
        {
          "output_type": "stream",
          "text": "X shape:  (1482535, 208)\ny shape:  (1482535, 1)\n",
          "name": "stdout"
        }
      ]
    },
    {
      "metadata": {
        "_uuid": "56109630e2fc3c470962dbe8684c7f8172e27258",
        "_cell_guid": "0da09a49-5fb0-496e-85ab-d353cdec899c",
        "trusted": true
      },
      "cell_type": "code",
      "source": "X_test = []\nfor i in range(len(test_raw)):\n    row = None\n    brand_name = 'unknown'\n    if str(test_raw['brand_name'][i]) in brand_dict:\n        brand_name = test_raw['brand_name'][i]\n    row = brand_dict[brand_name]\n    category_features = category_dict['unknown']\n    if str(test_raw['category_name'][i]) != 'nan':\n        clist = test_raw['category_name'][i].split('/')\n        cuname = ''\n        for cn in clist:\n            cuname = cuname + cn\n            if cuname in category_dict:\n                category_features = category_dict[cuname]\n    row = np.hstack([row, category_features])\n    condition_features = condition_dict[test_raw['item_condition_id'][i]]\n    row = np.hstack([row, condition_features])\n    shipping_features = np.array([test_raw['shipping'][i]])\n    row = np.hstack([row, shipping_features])\n    X_test.append(row)\nX_test = np.array(X_test)\nprint('X_test shape: ', X_test.shape)",
      "execution_count": 12,
      "outputs": [
        {
          "output_type": "stream",
          "text": "X_test shape:  (693359, 208)\n",
          "name": "stdout"
        }
      ]
    },
    {
      "metadata": {
        "_uuid": "e66561c74351ce8af6ea528e5e14306e73777a69",
        "_cell_guid": "92046ac4-d85b-458a-8f61-26a5973228f0",
        "trusted": true
      },
      "cell_type": "code",
      "source": "print(X_test[0])",
      "execution_count": 13,
      "outputs": [
        {
          "output_type": "stream",
          "text": "[  6.55063681e-01   2.39388824e-01   6.04932652e-02   2.05806392e-02\n   8.66153929e-03   5.18744014e-03   3.13901771e-03   2.11954821e-03\n   1.24707199e-03   8.06092160e-04   8.70895647e-04   4.97880452e-04\n   4.45721547e-04   2.10216191e-04   1.67540723e-04   2.54472231e-04\n   9.64149446e-05   1.61218432e-04   7.11257788e-05   4.58366130e-05\n   9.48343718e-05   3.95143216e-05   4.89977587e-05   1.73863015e-05\n   1.10640100e-05   4.58366130e-05   9.48343718e-06   2.37085929e-05\n   1.58057286e-05   4.74171859e-06   2.37085929e-05   9.48343718e-06\n   1.10640100e-05   7.90286431e-06   6.32229145e-06   2.05474472e-05\n   4.74171859e-06   7.90286431e-06   9.48343718e-06   1.58057286e-06\n   1.26445829e-05   3.16114573e-06   3.16114573e-06   0.00000000e+00\n   1.58057286e-06   1.10640100e-05   0.00000000e+00   6.32229145e-06\n   0.00000000e+00   0.00000000e+00   9.48343718e-06   0.00000000e+00\n   3.16114573e-06   1.58057286e-06   0.00000000e+00   3.16114573e-06\n   0.00000000e+00   0.00000000e+00   0.00000000e+00   0.00000000e+00\n   3.16114573e-06   0.00000000e+00   1.58057286e-06   0.00000000e+00\n   0.00000000e+00   0.00000000e+00   0.00000000e+00   0.00000000e+00\n   0.00000000e+00   0.00000000e+00   3.16114573e-06   0.00000000e+00\n   0.00000000e+00   0.00000000e+00   0.00000000e+00   1.58057286e-06\n   3.16114573e-06   0.00000000e+00   0.00000000e+00   0.00000000e+00\n   0.00000000e+00   0.00000000e+00   0.00000000e+00   0.00000000e+00\n   0.00000000e+00   0.00000000e+00   0.00000000e+00   3.16114573e-06\n   0.00000000e+00   0.00000000e+00   3.16114573e-06   0.00000000e+00\n   0.00000000e+00   0.00000000e+00   0.00000000e+00   0.00000000e+00\n   0.00000000e+00   0.00000000e+00   0.00000000e+00   1.58057286e-06\n   1.58057286e-06   5.88544601e-01   2.18309859e-01   8.72300469e-02\n   3.72769953e-02   1.42723005e-02   1.18309859e-02   6.66666667e-03\n   7.41784038e-03   3.75586854e-03   1.97183099e-03   4.78873239e-03\n   1.87793427e-03   2.15962441e-03   1.59624413e-03   1.03286385e-03\n   2.44131455e-03   6.57276995e-04   1.03286385e-03   9.38967136e-05\n   3.75586854e-04   1.03286385e-03   9.38967136e-05   7.51173709e-04\n   9.38967136e-05   9.38967136e-05   7.51173709e-04   9.38967136e-05\n   2.81690141e-04   9.38967136e-05   9.38967136e-05   4.69483568e-04\n   2.81690141e-04   9.38967136e-05   0.00000000e+00   9.38967136e-05\n   2.81690141e-04   1.87793427e-04   0.00000000e+00   0.00000000e+00\n   0.00000000e+00   3.75586854e-04   0.00000000e+00   9.38967136e-05\n   0.00000000e+00   0.00000000e+00   1.87793427e-04   0.00000000e+00\n   0.00000000e+00   0.00000000e+00   0.00000000e+00   2.81690141e-04\n   0.00000000e+00   9.38967136e-05   0.00000000e+00   0.00000000e+00\n   1.87793427e-04   0.00000000e+00   0.00000000e+00   0.00000000e+00\n   0.00000000e+00   9.38967136e-05   0.00000000e+00   0.00000000e+00\n   0.00000000e+00   0.00000000e+00   0.00000000e+00   0.00000000e+00\n   9.38967136e-05   0.00000000e+00   0.00000000e+00   0.00000000e+00\n   0.00000000e+00   0.00000000e+00   0.00000000e+00   0.00000000e+00\n   0.00000000e+00   9.38967136e-05   0.00000000e+00   0.00000000e+00\n   0.00000000e+00   0.00000000e+00   0.00000000e+00   0.00000000e+00\n   0.00000000e+00   0.00000000e+00   0.00000000e+00   0.00000000e+00\n   0.00000000e+00   0.00000000e+00   0.00000000e+00   1.87793427e-04\n   0.00000000e+00   0.00000000e+00   0.00000000e+00   0.00000000e+00\n   0.00000000e+00   0.00000000e+00   0.00000000e+00   0.00000000e+00\n   0.00000000e+00   1.87793427e-04   1.00000000e+00   0.00000000e+00\n   0.00000000e+00   0.00000000e+00   0.00000000e+00   1.00000000e+00]\n",
          "name": "stdout"
        }
      ]
    },
    {
      "metadata": {
        "collapsed": true,
        "_uuid": "cd8a451409df5292f9018e9d4adda2b497aed0e1",
        "_cell_guid": "7a1c5791-6440-4e5f-b0ab-619cb0a610c5",
        "trusted": true
      },
      "cell_type": "code",
      "source": "model = None\nif 'saved_model.h5' in set(check_output([\"ls\"]).decode(\"utf8\").split('\\n')):\n    model = KM.load_model('saved_model.h5')\nelse:\n    model = KM.Sequential()\n    model.add(KL.Dense(512, activation='relu', input_dim=208))\n    model.add(KL.Dense(256, activation='relu'))\n    model.add(KL.Dense(128, activation='relu'))\n    model.add(KL.Dropout(0.2))\n    model.add(KL.Dense(1, activation='relu'))\n    model.compile(optimizer='rmsprop', loss='mean_squared_error')",
      "execution_count": 14,
      "outputs": []
    },
    {
      "metadata": {
        "_uuid": "3801f45c0a70e464d35a94e9cc7a745e1a8ea560",
        "_cell_guid": "ef2defaf-44a0-4f8f-b027-b5bd3de037fa",
        "trusted": true
      },
      "cell_type": "code",
      "source": "H = model.fit(x=X, y=y, batch_size=32, verbose=1, epochs=1)",
      "execution_count": null,
      "outputs": [
        {
          "output_type": "stream",
          "text": "Epoch 1/1\n  15424/1482535 [..............................] - ETA: 4:31 - loss: 1013.4251",
          "name": "stdout"
        }
      ]
    },
    {
      "metadata": {
        "_uuid": "ecd3a6f403e8c8f936f06f760797dc13be17bca7",
        "_cell_guid": "cc9a78d7-f71b-4153-bc02-01dac99ad38c",
        "trusted": true
      },
      "cell_type": "code",
      "source": "pred = model.predict(x=X_test, verbose=1)\nprint('pred shape: ', pred.shape, 'should be: ', len(test_raw))\npredictions = []\nfor i in range(pred.shape[0]):\n    predictions.append(pred[i,0])\noutput_dict = {'test_id':test_raw['test_id'],'price':predictions}\noutput = pd.DataFrame(output_dict)\nprint('output length: ', len(output))\noutput.to_csv('submission.csv', index=False)\nmodel.save('saved_model.h5')\nprint(check_output([\"ls\"]).decode(\"utf8\"))",
      "execution_count": 20,
      "outputs": [
        {
          "output_type": "stream",
          "text": "693359/693359 [==============================] - 31s 45us/step\npred shape:  (693359, 1) should be:  693359\noutput length:  693359\n__notebook_source__.ipynb\nsaved_model.h5\nsubmission.csv\n\n",
          "name": "stdout"
        }
      ]
    },
    {
      "metadata": {
        "trusted": true,
        "collapsed": true,
        "_uuid": "b9469f576c890911c1d975d47eed41bd51fa0ee7"
      },
      "cell_type": "code",
      "source": "",
      "execution_count": null,
      "outputs": []
    }
  ],
  "metadata": {
    "language_info": {
      "name": "python",
      "version": "3.6.3",
      "mimetype": "text/x-python",
      "codemirror_mode": {
        "name": "ipython",
        "version": 3
      },
      "pygments_lexer": "ipython3",
      "nbconvert_exporter": "python",
      "file_extension": ".py"
    },
    "kernelspec": {
      "display_name": "Python 3",
      "language": "python",
      "name": "python3"
    }
  },
  "nbformat": 4,
  "nbformat_minor": 1
}