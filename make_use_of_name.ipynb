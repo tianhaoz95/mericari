{
  "cells": [
    {
      "metadata": {
        "_cell_guid": "600c98d2-aeb1-4286-9221-5b5a7143da6d",
        "_uuid": "66fa2aeaf10a4376b2c276c0f06f272758cc55d2",
        "trusted": false,
        "collapsed": true
      },
      "cell_type": "code",
      "source": "# This Python 3 environment comes with many helpful analytics libraries installed\n# It is defined by the kaggle/python docker image: https://github.com/kaggle/docker-python\n# For example, here's several helpful packages to load in \n%matplotlib inline\nimport numpy as np # linear algebra\nimport pandas as pd # data processing, CSV file I/O (e.g. pd.read_csv)\nimport collections\nimport matplotlib.pyplot as plt\nimport keras.layers as KL\nimport keras.optimizers as KO\nimport keras.models as KM\nimport keras.backend as K\n\n# Input data files are available in the \"../input/\" directory.\n# For example, running this (by clicking run or pressing Shift+Enter) will list the files in the input directory\n\nfrom subprocess import check_output\nprint(check_output([\"ls\", \"../input\"]).decode(\"utf8\"))\n\n# Any results you write to the current directory are saved as output.",
      "execution_count": null,
      "outputs": []
    },
    {
      "metadata": {
        "_cell_guid": "12f61c2e-14f5-47eb-9aa1-c244c098f498",
        "_uuid": "c3fb3619466ef04c05177c4365ff9e16840a127e",
        "collapsed": true,
        "trusted": false
      },
      "cell_type": "code",
      "source": "train_raw = pd.read_csv('../input/train.tsv', sep='\\t')\ntest_raw = pd.read_csv('../input/test.tsv', sep='\\t')",
      "execution_count": null,
      "outputs": []
    },
    {
      "metadata": {
        "_cell_guid": "7a31843b-1c7f-45fa-979d-815ecdd49358",
        "_uuid": "671dfa8e70427585c7bf98eb2e57041f6c899904",
        "collapsed": true,
        "trusted": false
      },
      "cell_type": "code",
      "source": "print(test_raw.keys())\nprint(test_raw['name'][0])",
      "execution_count": null,
      "outputs": []
    },
    {
      "metadata": {
        "_cell_guid": "e976dff8-fc55-42a8-99b2-9343b6bed1d7",
        "_uuid": "0cd823cade561cfbddfa345f5b38ff6c4879b048",
        "collapsed": true,
        "trusted": false
      },
      "cell_type": "code",
      "source": "name_list = []\nfor n in train_raw['name']:\n    name_list.extend(n.split(' '))\nfor n in test_raw['name']:\n    name_list.extend(n.split(' '))",
      "execution_count": null,
      "outputs": []
    },
    {
      "metadata": {
        "_cell_guid": "c89aec95-8cb9-40a4-909d-d27d69769749",
        "_uuid": "a0ac953952e13d2a1eb55c15d587f73648023a7b",
        "collapsed": true,
        "trusted": false
      },
      "cell_type": "code",
      "source": "name_collection = collections.Counter(name_list)\nprint('total words: ', len(name_collection.values()))\nname_dict = {}\nlimit = 5\nfor k in name_collection:\n    if name_collection[k] > limit:\n        name_dict[k] = np.zeros(202)\nprint(len(name_dict))",
      "execution_count": null,
      "outputs": []
    },
    {
      "metadata": {
        "_cell_guid": "9555dd68-fc75-4709-8a04-2174cb31f542",
        "_uuid": "8e041287906bc1f76d6810bd201a6301da36ad50",
        "collapsed": true,
        "trusted": false
      },
      "cell_type": "code",
      "source": "for i in range(len(train_raw)):\n    price_idx = int(train_raw['price'][i] // 10)\n    nalist = train_raw['name'][i].split(' ')\n    for na in nalist:\n        if na in name_dict:\n            name_dict[na][price_idx] = name_dict[na][price_idx] + 1\nprint(list(name_dict.values())[0])",
      "execution_count": null,
      "outputs": []
    },
    {
      "metadata": {
        "_cell_guid": "cf491e3e-1060-43fd-84ce-8bfffbfc6572",
        "_uuid": "490e26131c495f60d977b0c2080f0b2d88bcb545",
        "collapsed": true,
        "trusted": false
      },
      "cell_type": "code",
      "source": "for k in name_dict:\n    if sum(name_dict[k]) != 0:\n        name_dict[k] = name_dict[k] / sum(name_dict[k])\nprint(list(name_dict.values())[0])",
      "execution_count": null,
      "outputs": []
    },
    {
      "metadata": {
        "_cell_guid": "05ac116b-807c-4d86-a4a7-fed565e27499",
        "_uuid": "9d91c40fef0fdda6b004f44a2b1034a6ec5e44f0",
        "collapsed": true,
        "trusted": false
      },
      "cell_type": "code",
      "source": "brand_list = []\nbrand_list.extend(train_raw['brand_name'])\nbrand_list.extend(test_raw['brand_name'])\nbrand_list = [i for i in brand_list if str(i) != 'nan']\nbrand_collection = collections.Counter(brand_list)\nmax_brand_idx = list(brand_collection.values()).index(max(brand_collection.values()))\nmax_brand_name = list(brand_collection.keys())[max_brand_idx]\nbrand_dict = {'unknown': np.zeros(202)}\nfor i in range(len(train_raw)):\n    price_idx = int(train_raw['price'][i] // 10)\n    if str(train_raw['brand_name'][i]) == 'nan':\n        brand_dict['unknown'][price_idx] = brand_dict['unknown'][price_idx] + 1\n    else:\n        brand_name = train_raw['brand_name'][i]\n        if brand_name not in brand_dict:\n            brand_dict[brand_name] = np.zeros(202)\n        brand_dict[brand_name][price_idx] = brand_dict[brand_name][price_idx] + 1\nprint('brand dict size: ', len(brand_dict))\nfor k in brand_dict:\n    brand_dict[k] = brand_dict[k] / sum(brand_dict[k])\nprint(list(brand_dict.values())[0])",
      "execution_count": null,
      "outputs": []
    },
    {
      "metadata": {
        "_cell_guid": "660ab545-f8c9-465c-9802-8e7d2e016cd5",
        "_uuid": "b027e30712e58485f437f0f5df0431129500093b",
        "collapsed": true,
        "trusted": false
      },
      "cell_type": "code",
      "source": "total_item_condition = []\ntotal_item_condition.extend(train_raw['item_condition_id'])\ntotal_item_condition.extend(test_raw['item_condition_id'])\nprint('total item condition id count: ', len(total_item_condition))\nprint(list(set(total_item_condition)))\ncondition_list = list(set(total_item_condition))\ncondition_dict = {}\nfor i in range(len(condition_list)):\n    condition_dict[condition_list[i]] = np.zeros(5)\n    condition_dict[condition_list[i]][i] = 1\nprint('condition dict: ', condition_dict)",
      "execution_count": null,
      "outputs": []
    },
    {
      "metadata": {
        "_cell_guid": "3925cc9e-d1dc-4401-9933-de68f9d923a4",
        "_uuid": "feaa65a5ecefab66bedce1b39a0678fda46e1094",
        "collapsed": true,
        "trusted": false
      },
      "cell_type": "code",
      "source": "price_list = train_raw['price']\nprint('min price: ', min(price_list))\nprint('max price: ', max(price_list))\nprint('intervals: ', 2020//10)",
      "execution_count": null,
      "outputs": []
    },
    {
      "metadata": {
        "_cell_guid": "0ea4c8ea-b924-49e2-92d8-d8a8ac79a9c0",
        "_uuid": "626a77e37e5bdb35df8889cd3a3567ce01de7762",
        "collapsed": true,
        "trusted": false
      },
      "cell_type": "code",
      "source": "price_seg = []\nfor p in train_raw['price']:\n    row = np.zeros(202)\n    row[int(p//10)] = 1\n    price_seg.append(row)\nprice_seg = np.array(price_seg)\nprint('price seg shape: ', price_seg.shape)",
      "execution_count": null,
      "outputs": []
    },
    {
      "metadata": {
        "_cell_guid": "a083a747-5f9a-4414-a5c4-7c29f573e4b7",
        "_uuid": "1479f2c55b1daa8eee8d4e620f6534962203070b",
        "collapsed": true,
        "trusted": false
      },
      "cell_type": "code",
      "source": "min_category_cnt = 10\nmax_category_cnt = 0\nmax_len = 0\ncategory_list = []\ncategory_list.extend(train_raw['category_name'])\ncategory_list.extend(test_raw['category_name'])\ncategory_list = [c for c in category_list if str(c) != 'nan']\nprint(category_list[100].lower())\nlabel_list = []\nchar_list = []\nfor c in category_list:\n    clist = c.split('/')\n    char_list.extend(list(c))\n    label_list.extend(clist)\n    max_len = max(max_len, len(c))\n    min_category_cnt = min(min_category_cnt, len(clist))\n    max_category_cnt = max(max_category_cnt, len(clist))\nprint('min: ', min_category_cnt,  'max: ', max_category_cnt)\nprint('total labels: ', len(label_list))\nprint('max length: ', max_len)",
      "execution_count": null,
      "outputs": []
    },
    {
      "metadata": {
        "_cell_guid": "9a21a271-bb6f-4fce-9b64-800935ff2648",
        "_uuid": "3af03d850ad58dcb3695d53bb2352dee36563da7",
        "collapsed": true,
        "trusted": false
      },
      "cell_type": "code",
      "source": "category_dict = {'unknown': np.zeros(202)}\nfor i in range(len(train_raw)):\n    price_idx = int(train_raw['price'][i] // 10)\n    if str(train_raw['category_name'][i]) == 'nan':\n        category_dict['unknown'][price_idx] = category_dict['unknown'][price_idx] + 1\n    else:\n        clist = train_raw['category_name'][i].split('/')\n        cuname = ''\n        for cn in clist:\n            cuname = cuname + cn\n            if cuname not in category_dict:\n                category_dict[cuname] = np.zeros(202)\n            category_dict[cuname][price_idx] = category_dict[cuname][price_idx] + 1\nprint('dict size: ', len(category_dict))",
      "execution_count": null,
      "outputs": []
    },
    {
      "metadata": {
        "_cell_guid": "b53901bb-e9c3-41f7-8671-fe637fd3a3ea",
        "_uuid": "234ef6354ef87a2b0715d30973be1859492dc636",
        "collapsed": true,
        "trusted": false
      },
      "cell_type": "code",
      "source": "for k in category_dict:\n    category_dict[k] = category_dict[k]/sum(category_dict[k])\nprint(list(category_dict.values())[0])",
      "execution_count": null,
      "outputs": []
    },
    {
      "metadata": {
        "_cell_guid": "31e62df5-024c-4fec-a041-b37b42b05df9",
        "_uuid": "fcbe1e4d18cc428fb7ffb38f1df227d3408693c1",
        "collapsed": true,
        "trusted": false
      },
      "cell_type": "code",
      "source": "unknown_cnt = 0\nfor i in range(len(test_raw)):\n    if str(test_raw['category_name'][i]) == 'nan':\n        unknown_cnt = unknown_cnt + 1\n    else:\n        clist = test_raw['category_name'][i].split('/')\n        cuname = ''\n        found = False\n        for cn in clist:\n            cuname = cuname + cn\n            if cuname in category_dict:\n                found = True\n        if not found:\n            unknown_cnt = unknown_cnt + 1\nprint('unknown rate: ', unknown_cnt/len(test_raw))",
      "execution_count": null,
      "outputs": []
    },
    {
      "metadata": {
        "_cell_guid": "41e3bf6d-596d-4233-87c3-46c1363d19a2",
        "_uuid": "357e331d6fd6050bf879147580531c06203260d9",
        "collapsed": true,
        "trusted": false
      },
      "cell_type": "code",
      "source": "y = np.array([[p] for p in train_raw['price']])\nprint(y.shape)",
      "execution_count": null,
      "outputs": []
    },
    {
      "metadata": {
        "_cell_guid": "4d52828e-14f4-4715-a52d-88fe5ac67bad",
        "_uuid": "0d23c23d919f82ac27feb6d02ff19ce777a8f0c3",
        "collapsed": true,
        "trusted": false
      },
      "cell_type": "code",
      "source": "def getX(data, start, end):\n    X = []\n    for i in range(start, end):\n        row = None\n        brand_name = 'unknown'\n        if str(data['brand_name'][i]) in brand_dict:\n            brand_name = data['brand_name'][i]\n        row = brand_dict[brand_name]\n        category_features = category_dict['unknown']\n        if str(data['category_name'][i]) != 'nan':\n            clist = data['category_name'][i].split('/')\n            cuname = ''\n            for cn in clist:\n                cuname = cuname + cn\n                if cuname in category_dict:\n                    category_features = category_dict[cuname]\n        row = np.hstack([row, category_features])\n        name_features = np.zeros(202)\n        for na in train_raw['name'][i].split(' '):\n            if na in name_dict:\n                name_features = name_features + name_dict[na]\n        if sum(name_features) != 0:\n            name_features = name_features / sum(name_features)\n        row = np.hstack([row, name_features])\n        condition_features = condition_dict[data['item_condition_id'][i]]\n        row = np.hstack([row, condition_features])\n        shipping_features = np.array([data['shipping'][i]])\n        row = np.hstack([row, shipping_features])\n        X.append(row)\n    X = np.array(X)\n    print('X shape: ', X.shape)\n    return X",
      "execution_count": null,
      "outputs": []
    },
    {
      "metadata": {
        "_cell_guid": "7a1c5791-6440-4e5f-b0ab-619cb0a610c5",
        "_uuid": "cd8a451409df5292f9018e9d4adda2b497aed0e1",
        "collapsed": true,
        "trusted": false
      },
      "cell_type": "code",
      "source": "model = KM.Sequential()\nmodel.add(KL.Dense(1024, activation='relu', input_dim=612))\nmodel.add(KL.Dense(512, activation='relu'))\nmodel.add(KL.Dense(256, activation='relu'))\nmodel.add(KL.Dropout(0.2))\nmodel.add(KL.Dense(1, activation='relu'))\nmodel.compile(optimizer='rmsprop', loss='mean_squared_error')",
      "execution_count": null,
      "outputs": []
    },
    {
      "metadata": {
        "_cell_guid": "ef2defaf-44a0-4f8f-b027-b5bd3de037fa",
        "_uuid": "3801f45c0a70e464d35a94e9cc7a745e1a8ea560",
        "collapsed": true,
        "trusted": false
      },
      "cell_type": "code",
      "source": "trunk = 20000\nfor i in range(int(len(train_raw)//trunk)+1):\n    print(i*trunk/len(train_raw)*100)\n    start = i*trunk\n    end = min((i+1)*trunk, len(train_raw))\n    X = getX(train_raw, start, end)\n    H = model.fit(x=X, y=y[start:end], batch_size=32, verbose=1, epochs=5)",
      "execution_count": null,
      "outputs": []
    },
    {
      "metadata": {
        "_cell_guid": "cc9a78d7-f71b-4153-bc02-01dac99ad38c",
        "_uuid": "ecd3a6f403e8c8f936f06f760797dc13be17bca7",
        "collapsed": true,
        "trusted": false
      },
      "cell_type": "code",
      "source": "predictions = []\nfor i in range(int(len(test_raw)//trunk)+1):\n    print(i*trunk/len(test_raw)*100)\n    start = i*trunk\n    end = min((i+1)*trunk, len(test_raw))\n    X_test = getX(test_raw, start, end)\n    pred = model.predict(x=X_test, verbose=1)\n    for j in range(pred.shape[0]):\n        predictions.append(pred[j,0])\noutput_dict = {'test_id':test_raw['test_id'],'price':predictions}\noutput = pd.DataFrame(output_dict)\nprint('output length: ', len(output))\nprint('should be: ', len(test_raw))\noutput.to_csv('submission.csv', index=False)\nprint(check_output([\"ls\"]).decode(\"utf8\"))",
      "execution_count": null,
      "outputs": []
    },
    {
      "metadata": {
        "_cell_guid": "2b2a4b18-2f6d-448f-8b6e-a768210a64b6",
        "_uuid": "f9d49a191044b051fb4d568a159c2ceabdab02f5",
        "collapsed": true,
        "trusted": false
      },
      "cell_type": "code",
      "source": "",
      "execution_count": null,
      "outputs": []
    }
  ],
  "metadata": {
    "language_info": {
      "nbconvert_exporter": "python",
      "file_extension": ".py",
      "mimetype": "text/x-python",
      "name": "python",
      "pygments_lexer": "ipython3",
      "version": "3.6.3",
      "codemirror_mode": {
        "name": "ipython",
        "version": 3
      }
    },
    "kernelspec": {
      "display_name": "Python 3",
      "language": "python",
      "name": "python3"
    }
  },
  "nbformat": 4,
  "nbformat_minor": 1
}