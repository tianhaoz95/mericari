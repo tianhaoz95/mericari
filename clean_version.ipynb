{
  "cells": [
    {
      "metadata": {
        "_cell_guid": "490cf988-52a3-4973-b572-f271cbf2b406",
        "_uuid": "419aa79056220e2fa18ae642b4bab801ec6efb3c",
        "trusted": true
      },
      "cell_type": "code",
      "source": "# This Python 3 environment comes with many helpful analytics libraries installed\n# It is defined by the kaggle/python docker image: https://github.com/kaggle/docker-python\n# For example, here's several helpful packages to load in \n\nimport numpy as np # linear algebra\nimport pandas as pd # data processing, CSV file I/O (e.g. pd.read_csv)\n\n# Input data files are available in the \"../input/\" directory.\n# For example, running this (by clicking run or pressing Shift+Enter) will list the files in the input directory\n\nfrom subprocess import check_output\nprint(check_output([\"ls\", \"../input\"]).decode(\"utf8\"))\n\n# Any results you write to the current directory are saved as output.",
      "execution_count": 2,
      "outputs": [
        {
          "output_type": "stream",
          "text": "sample_submission.csv\ntest.tsv\ntrain.tsv\n\n",
          "name": "stdout"
        }
      ]
    },
    {
      "metadata": {
        "_cell_guid": "ac455fb0-c6f5-416a-92b4-72e0ac64fb23",
        "_uuid": "01e8031b318a25c8a30212fc0a4f09da79221c0d",
        "trusted": false,
        "collapsed": true
      },
      "cell_type": "code",
      "source": "%matplotlib inline\nimport matplotlib\nimport math\nimport os\nimport seaborn as sns\nimport collections\nimport matplotlib.pyplot as plt\nimport keras.layers as KL\nimport keras.optimizers as KO\nimport keras.models as KM\nimport keras.backend as K",
      "execution_count": null,
      "outputs": []
    },
    {
      "metadata": {
        "_cell_guid": "cb28d310-596a-48ae-b4f7-3a53d219c179",
        "collapsed": true,
        "_uuid": "bed90e25e1f25ff97baca2ecbdb5ecdf964a38fa",
        "trusted": false
      },
      "cell_type": "code",
      "source": "train_raw = pd.read_csv('../input/train.tsv', sep='\\t')",
      "execution_count": null,
      "outputs": []
    },
    {
      "metadata": {
        "_cell_guid": "60c15872-0b24-4cb4-b9d2-2eb129491a1d",
        "collapsed": true,
        "_uuid": "c53a6d9de2c05200b04cfcddad4d39fe0f4b052c",
        "trusted": false
      },
      "cell_type": "code",
      "source": "test_raw = pd.read_csv('../input/test.tsv', sep='\\t')",
      "execution_count": null,
      "outputs": []
    },
    {
      "metadata": {
        "_cell_guid": "4c673d3f-cffd-43fa-b8e7-8f4846aeed37",
        "_uuid": "89344371e9d5ba8dd006a9c92af43ff408a195b1",
        "trusted": false,
        "collapsed": true
      },
      "cell_type": "code",
      "source": "train_brand_list = list(set(train_raw['brand_name']))\ntest_brand_list = list(set(test_raw['brand_name']))\nprint('training brand size: ', len(train_brand_list))\nprint('testing brand size: ', len(test_brand_list))\nprint('common brand size: ', len(list(set(train_brand_list)&set(test_brand_list))))\ntotal_brand_list = list(set(train_brand_list)|set(test_brand_list))\nbrand_dict = {}\nfor b in total_brand_list:\n    brand_dict[b] = len(brand_dict)\nprint('brand dict size: ', len(brand_dict))",
      "execution_count": null,
      "outputs": []
    },
    {
      "metadata": {
        "_cell_guid": "70555cb1-d187-4241-8222-384860e46e7f",
        "_uuid": "2ad34aa5f86779ec10cce7225c11194e1f28cee1",
        "trusted": false,
        "collapsed": true
      },
      "cell_type": "code",
      "source": "total_category = []\ntotal_category.extend(train_raw['category_name'].tolist())\ntotal_category.extend(test_raw['category_name'].tolist())\nprint('total category count: ', len(total_category))\ndicts = []\nfor c in total_category:\n    if type(c) == str:\n        clist = c.split('/')\n        level_of_category = len(clist)\n        while level_of_category > len(dicts):\n            dicts.append({})\n        for i in range(level_of_category):\n            current = clist[i]\n            if current not in dicts[i]:\n                dicts[i][current] = len(dicts[i])\nprint('level of dicts: ', len(dicts))\ncategory_dict_size = len(dicts[0]) + len(dicts[1])",
      "execution_count": null,
      "outputs": []
    },
    {
      "metadata": {
        "_cell_guid": "82a874c6-5420-4cb9-bbc9-12dc22513fea",
        "_uuid": "61dae5a52d2d152897a34bb00dd68ff827efa724",
        "trusted": false,
        "collapsed": true
      },
      "cell_type": "code",
      "source": "total_item_condition = []\ntotal_item_condition.extend(train_raw['item_condition_id'])\ntotal_item_condition.extend(test_raw['item_condition_id'])\nprint('total item condition id count: ', len(total_item_condition))\nprint(list(set(total_item_condition)))\ncondition_list = list(set(total_item_condition))\ncondition_dict = {}\nfor i in range(len(condition_list)):\n    condition_dict[condition_list[i]] = i\nprint('condition dict: ', condition_dict)",
      "execution_count": null,
      "outputs": []
    },
    {
      "metadata": {
        "_cell_guid": "b6daaee6-4114-4660-93e6-223ebe4b8073",
        "collapsed": true,
        "_uuid": "d57620e7e2803894b36497a248966fd2f012aa6f",
        "trusted": false
      },
      "cell_type": "code",
      "source": "def encode_category(data, dicts, level):\n    res = []\n    for d in data:\n        row = []\n        for lv in range(level):\n            exrow = [0 for i in range(len(dicts[lv]))]\n            if type(d) == str:\n                clist = d.split('/')\n                if lv < len(clist) and clist[lv] in dicts[lv]:\n                    exrow[dicts[lv][clist[lv]]] = 1\n            row.extend(exrow)\n        res.append(row)\n    output = np.array(res)\n    return output",
      "execution_count": null,
      "outputs": []
    },
    {
      "metadata": {
        "_cell_guid": "9c4f1313-df19-4ffb-9d57-7b78ece60af3",
        "collapsed": true,
        "_uuid": "b4f238e7ed92260f835878daba5a6092d07af68c",
        "trusted": false
      },
      "cell_type": "code",
      "source": "def encode_condition(data, condition_dict):\n    res = []\n    for d in data:\n        row = np.zeros((len(condition_dict)))\n        row[condition_dict[d]] = 1\n        res.append(row)\n    output = np.array(res)\n    return output",
      "execution_count": null,
      "outputs": []
    },
    {
      "metadata": {
        "_cell_guid": "7aa64198-e375-4b3f-9ce7-40ef5d0326d5",
        "collapsed": true,
        "_uuid": "44f56f066564fe602d17d4b29c5675fa8f428049",
        "trusted": false
      },
      "cell_type": "code",
      "source": "def encode_shipping(data):\n    res = [[i] for i in data]\n    output = np.array(res)\n    return output",
      "execution_count": null,
      "outputs": []
    },
    {
      "metadata": {
        "_cell_guid": "a584e0a8-d937-43cf-b57c-55a9218c90ff",
        "collapsed": true,
        "_uuid": "0acf48b3ced529d0af21c69c301892f14efacf30",
        "trusted": false
      },
      "cell_type": "code",
      "source": "def encode_brand(data, brand_dict):\n    res = []\n    for d in data:\n        row = np.zeros((len(brand_dict)))\n        if d in brand_dict:\n            row[brand_dict[d]] = 1\n        res.append(row)\n    output = np.array(res)\n    return output",
      "execution_count": null,
      "outputs": []
    },
    {
      "metadata": {
        "_cell_guid": "f1866ac3-e222-4cfe-a922-2b6a75ad8eac",
        "collapsed": true,
        "_uuid": "01daa49d72530fc9d0108c0f0e6eda59ac46e07c",
        "trusted": false
      },
      "cell_type": "code",
      "source": "def get_price_range(price):\n    res = 0\n    if price < 100:\n        res = price // 10\n    elif price < 500:\n        res = (100 // 10) + 1 + (price - 100) // 50\n    else:\n        res = (100 // 10) + 1 + ((500 - 100) // 50) + 1 + (price - 500) // 100\n    return int(res)",
      "execution_count": null,
      "outputs": []
    },
    {
      "metadata": {
        "_cell_guid": "73494c24-588a-46b5-b0fd-842ae8aa0a12",
        "collapsed": true,
        "_uuid": "007774e857ec22a139c253673ec3bb477954a161",
        "trusted": false
      },
      "cell_type": "code",
      "source": "def encode_price_category(data):\n    max_price = 2250\n    category_size = get_price_range(max_price) + 1\n    res = []\n    for d in data:\n        row = np.zeros((category_size))\n        row[get_price_range(d)] = 1\n        res.append(row)\n    output = np.array(res)\n    return output",
      "execution_count": null,
      "outputs": []
    },
    {
      "metadata": {
        "_cell_guid": "6f8e3249-968b-48b2-b4e4-ced6a7028f59",
        "collapsed": true,
        "_uuid": "570cfcc049338446fcefa7ad8a103a9ecf0626ea",
        "trusted": false
      },
      "cell_type": "code",
      "source": "# brand portion\nbrand_inputs = KL.Input(shape=(5290,))\nbrand_dnn_1 = KL.Dense(units=128, activation='relu')\nx_brand = brand_dnn_1(brand_inputs)\nx_brand = KL.Dropout(0.2)(x_brand)\nbrand_output_layer = KL.Dense(units=38, activation='softmax')\nbrand_outputs = brand_output_layer(x_brand)\n# category portion\ncategory_inputs = KL.Input(shape=(123,))\ncategory_dnn_1 = KL.Dense(units=128, activation='relu')\nx_category = category_dnn_1(category_inputs)\nx_category = KL.Dropout(0.2)(x_category)\ncategory_output_layer = KL.Dense(units=38, activation='softmax')\ncategory_outputs = category_output_layer(x_category)\n# condition portion\ncondition_inputs = KL.Input(shape=(6,))\nx_condition = KL.Dense(128, activation='relu')(condition_inputs)\nx_condition = KL.Dropout(0.2)(x_condition)\ncondition_outputs = KL.Dense(16)(x_condition)\n# combine portion\nx_combine = KL.concatenate([brand_outputs, category_outputs, condition_outputs], axis=-1)\nx_combine = KL.Dense(128, activation='relu')(x_combine)\nx_combine = KL.Dropout(0.2)(x_combine)\nfinal_outputs = KL.Dense(1, activation='relu')(x_combine)",
      "execution_count": null,
      "outputs": []
    },
    {
      "metadata": {
        "_cell_guid": "9ab511c8-f05e-411e-97fa-b08f15ae56f7",
        "collapsed": true,
        "_uuid": "ab9fb658ea37fa7b11db6e8627926cb79b7339be",
        "trusted": false
      },
      "cell_type": "code",
      "source": "brand_model = KM.Model(inputs=brand_inputs, outputs=brand_outputs)\ncategory_model = KM.Model(inputs=category_inputs, outputs=category_outputs)\ncombined_model = KM.Model(inputs=[brand_inputs, category_inputs, condition_inputs], outputs=[final_outputs])",
      "execution_count": null,
      "outputs": []
    },
    {
      "metadata": {
        "_cell_guid": "4cb5bd2e-52e3-444d-bd3c-15e73062b40e",
        "_uuid": "285462bd7997157bb6b2a190b982605960628372",
        "trusted": false,
        "collapsed": true
      },
      "cell_type": "code",
      "source": "total_sample_size = len(train_raw)\ntrunk = 1000\niter_cnt = 50\nfor i in range((total_sample_size//trunk) + 1):\n    print(i, '/', total_sample_size//trunk)\n    start = i*trunk\n    end = min((i+1)*trunk, total_sample_size)\n    train_condition = encode_condition(train_raw['item_condition_id'][start:end], condition_dict)\n    train_shipping = encode_shipping(train_raw['shipping'][start:end])\n    train_condition = np.hstack([train_condition, train_shipping])\n    train_category = encode_category(train_raw['category_name'][start:end], dicts, 2)\n    train_brand = encode_brand(train_raw['brand_name'][start:end], brand_dict)\n    train_price_category = encode_price_category(train_raw['price'][start:end])\n    train_price = np.array([[i] for i in train_raw['price'][start:end]])\n    brand_model.compile(optimizer='rmsprop', loss='categorical_crossentropy', metrics=['accuracy'])\n    for i in range(iter_cnt):\n        brand_model.fit(x=train_brand, y=train_price_category, verbose=0)\n    category_model.compile(optimizer='rmsprop', loss='categorical_crossentropy', metrics=['accuracy'])\n    for i in range(iter_cnt):\n        category_model.fit(x=train_category, y=train_price_category, verbose=0)\n    brand_dnn_1.trainable = False\n    brand_output_layer.trainable = False\n    category_dnn_1.trainable = False\n    category_output_layer.trainable = False\n    combined_model.compile(optimizer='rmsprop', loss='mean_squared_error')\n    for i in range(iter_cnt):\n        combined_model.fit(x=[train_brand, train_category, train_condition], y=train_price, verbose=0)",
      "execution_count": null,
      "outputs": []
    },
    {
      "metadata": {
        "_cell_guid": "33f26ef6-7d3c-4901-b848-6f9ad4a96a7a",
        "collapsed": true,
        "_uuid": "91d5e4ef20fcfa84958709f33bf624e7abf8165e",
        "trusted": false
      },
      "cell_type": "code",
      "source": "test_size = len(test_raw)\ntrunk = 100\nres = []\nfor i in range((test_size//trunk) + 1):\n    if i % 100 == 0:\n        print(i, '/', test_size//trunk)\n    start = i*trunk\n    end = min((i+1)*trunk, test_size)\n    test_condition = encode_condition(test_raw['item_condition_id'][start:end], condition_dict)\n    test_shipping = encode_shipping(test_raw['shipping'][start:end])\n    test_condition = np.hstack([test_condition, test_shipping])\n    test_category = encode_category(test_raw['category_name'][start:end], dicts, 2)\n    test_brand = encode_brand(test_raw['brand_name'][start:end], brand_dict)\n    tmp = combined_model.predict(x=[test_brand, test_category, test_condition], verbose=0)\n    res.extend(sum(tmp.tolist(), []))\nprint(len(res))",
      "execution_count": null,
      "outputs": []
    },
    {
      "metadata": {
        "_cell_guid": "3d0b474e-67a0-4604-afd8-cdea6d07834f",
        "collapsed": true,
        "_uuid": "265b8502ca1eaef337e7741f69f4de47dd54e5bc",
        "trusted": false
      },
      "cell_type": "code",
      "source": "output_dict = {'test_id': test_raw['test_id'], 'price': res}\noutput_dataframe = pd.DataFrame(output_dict)\noutput_dataframe.to_csv('submission.csv')",
      "execution_count": null,
      "outputs": []
    },
    {
      "metadata": {
        "_cell_guid": "d583c4f4-e4b9-4e0e-b75e-53f1c1d294f3",
        "_uuid": "8ad0deebd4a00c70c0773b354b8ef8d9d79420a9",
        "trusted": true
      },
      "cell_type": "code",
      "source": "print(check_output([\"ls\"]).decode(\"utf8\"))",
      "execution_count": 3,
      "outputs": [
        {
          "output_type": "stream",
          "text": "__notebook_source__.ipynb\n\n",
          "name": "stdout"
        }
      ]
    },
    {
      "metadata": {
        "trusted": true,
        "collapsed": true,
        "_uuid": "cf505070e7d3c40fc24cb9a883b25a9fb42a2567"
      },
      "cell_type": "code",
      "source": "",
      "execution_count": null,
      "outputs": []
    }
  ],
  "metadata": {
    "language_info": {
      "name": "python",
      "version": "3.6.3",
      "mimetype": "text/x-python",
      "codemirror_mode": {
        "name": "ipython",
        "version": 3
      },
      "pygments_lexer": "ipython3",
      "nbconvert_exporter": "python",
      "file_extension": ".py"
    },
    "kernelspec": {
      "display_name": "Python 3",
      "language": "python",
      "name": "python3"
    }
  },
  "nbformat": 4,
  "nbformat_minor": 1
}